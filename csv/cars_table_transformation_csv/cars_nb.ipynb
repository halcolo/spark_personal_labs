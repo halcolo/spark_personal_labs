{
 "cells": [
  {
   "cell_type": "code",
   "execution_count": 4,
   "metadata": {},
   "outputs": [],
   "source": [
    "# Following file explain how to create a basic session for pyspark\n",
    "\n",
    "from pyspark.sql import SparkSession\n",
    "\n",
    "spark = SparkSession.builder.appName('basic_spark_session').getOrCreate()\n",
    "\n",
    "cars_df = spark.read.csv('./cars.csv', inferSchema=True, header=True)"
   ]
  },
  {
   "cell_type": "code",
   "execution_count": 5,
   "metadata": {},
   "outputs": [
    {
     "name": "stdout",
     "output_type": "stream",
     "text": [
      "+----+-----+-----+--------------------+-----+\n",
      "|year| make|model|             comment|blank|\n",
      "+----+-----+-----+--------------------+-----+\n",
      "|2012|Tesla|    S|          No comment| null|\n",
      "|1997| Ford| E350|Go get one now th...| null|\n",
      "|2015|Chevy| Volt|                null| null|\n",
      "+----+-----+-----+--------------------+-----+\n",
      "\n"
     ]
    }
   ],
   "source": [
    "cars_df.show()"
   ]
  },
  {
   "attachments": {},
   "cell_type": "markdown",
   "metadata": {},
   "source": [
    "# Deleting blank column"
   ]
  },
  {
   "cell_type": "code",
   "execution_count": 6,
   "metadata": {},
   "outputs": [
    {
     "name": "stdout",
     "output_type": "stream",
     "text": [
      "+----+-----+-----+--------------------+\n",
      "|year| make|model|             comment|\n",
      "+----+-----+-----+--------------------+\n",
      "|2012|Tesla|    S|          No comment|\n",
      "|1997| Ford| E350|Go get one now th...|\n",
      "|2015|Chevy| Volt|                null|\n",
      "+----+-----+-----+--------------------+\n",
      "\n"
     ]
    }
   ],
   "source": [
    "cars_df = cars_df.drop('blank')\n",
    "cars_df.show()"
   ]
  },
  {
   "cell_type": "code",
   "execution_count": 11,
   "metadata": {},
   "outputs": [
    {
     "name": "stdout",
     "output_type": "stream",
     "text": [
      "+----+-----+-----+--------------------+\n",
      "|year| make|model|             comment|\n",
      "+----+-----+-----+--------------------+\n",
      "|2012|Tesla|    S|          No comment|\n",
      "|1997| Ford| E350|Go get one now th...|\n",
      "|2015|Chevy| Volt|          No comment|\n",
      "+----+-----+-----+--------------------+\n",
      "\n"
     ]
    }
   ],
   "source": [
    "\n",
    "from pyspark.sql.functions import lit\n",
    "\n",
    "cars_df = cars_df.fillna(\"No comment\", ['comment'])\n",
    "cars_df.show()"
   ]
  },
  {
   "cell_type": "code",
   "execution_count": 14,
   "metadata": {},
   "outputs": [],
   "source": [
    "spark.stop()"
   ]
  }
 ],
 "metadata": {
  "kernelspec": {
   "display_name": "data_analitycs",
   "language": "python",
   "name": "python3"
  },
  "language_info": {
   "codemirror_mode": {
    "name": "ipython",
    "version": 3
   },
   "file_extension": ".py",
   "mimetype": "text/x-python",
   "name": "python",
   "nbconvert_exporter": "python",
   "pygments_lexer": "ipython3",
   "version": "3.9.0"
  },
  "orig_nbformat": 4,
  "vscode": {
   "interpreter": {
    "hash": "f765e5ad710bb370f6c58df4fbf1e7895f89a333f9d3230d95c8465cd0f2607c"
   }
  }
 },
 "nbformat": 4,
 "nbformat_minor": 2
}
